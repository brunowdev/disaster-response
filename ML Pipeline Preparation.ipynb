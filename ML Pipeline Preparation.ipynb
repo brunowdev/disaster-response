{
 "cells": [
  {
   "cell_type": "markdown",
   "metadata": {},
   "source": [
    "# ML Pipeline Preparation\n",
    "Follow the instructions below to help you create your ML pipeline.\n",
    "### 1. Import libraries and load data from database.\n",
    "- Import Python libraries\n",
    "- Load dataset from database with [`read_sql_table`](https://pandas.pydata.org/pandas-docs/stable/generated/pandas.read_sql_table.html)\n",
    "- Define feature and target variables X and Y"
   ]
  },
  {
   "cell_type": "code",
   "execution_count": 83,
   "metadata": {},
   "outputs": [],
   "source": [
    "import pandas as pd\n",
    "import numpy as np\n",
    "\n",
    "from sqlalchemy import create_engine\n",
    "\n",
    "from nltk.stem import WordNetLemmatizer\n",
    "from nltk.tokenize import word_tokenize\n",
    "from nltk.tokenize import RegexpTokenizer\n",
    "\n",
    "from sklearn.metrics import confusion_matrix, classification_report\n",
    "from sklearn.model_selection import train_test_split, GridSearchCV\n",
    "from sklearn.feature_extraction.text import CountVectorizer, TfidfTransformer, TfidfVectorizer\n",
    "\n",
    "from sklearn.pipeline import Pipeline, FeatureUnion\n",
    "from sklearn.multioutput import MultiOutputClassifier\n",
    "from sklearn.ensemble import RandomForestClassifier"
   ]
  },
  {
   "cell_type": "code",
   "execution_count": 2,
   "metadata": {},
   "outputs": [],
   "source": [
    "db_filename = 'DisasterResponse.db'\n",
    "db_tablename = 'messages'"
   ]
  },
  {
   "cell_type": "code",
   "execution_count": 3,
   "metadata": {},
   "outputs": [],
   "source": [
    "labels = [ \n",
    " 'related',\n",
    " 'request',\n",
    " 'offer',\n",
    " 'aid_related',\n",
    " 'medical_help',\n",
    " 'medical_products',\n",
    " 'search_and_rescue',\n",
    " 'security',\n",
    " 'military',\n",
    " 'child_alone',\n",
    " 'water',\n",
    " 'food',\n",
    " 'shelter',\n",
    " 'clothing',\n",
    " 'money',\n",
    " 'missing_people',\n",
    " 'refugees',\n",
    " 'death',\n",
    " 'other_aid',\n",
    " 'infrastructure_related',\n",
    " 'transport',\n",
    " 'buildings',\n",
    " 'electricity',\n",
    " 'tools',\n",
    " 'hospitals',\n",
    " 'shops',\n",
    " 'aid_centers',\n",
    " 'other_infrastructure',\n",
    " 'weather_related',\n",
    " 'floods',\n",
    " 'storm',\n",
    " 'fire',\n",
    " 'earthquake',\n",
    " 'cold',\n",
    " 'other_weather',\n",
    " 'direct_report'\n",
    "]"
   ]
  },
  {
   "cell_type": "code",
   "execution_count": 4,
   "metadata": {},
   "outputs": [],
   "source": [
    "# load data from database\n",
    "engine = create_engine(f'sqlite:///{db_filename}')\n",
    "df = pd.read_sql_table(db_tablename, engine)\n",
    "X = df.message\n",
    "Y = df[labels]"
   ]
  },
  {
   "cell_type": "markdown",
   "metadata": {},
   "source": [
    "### 2. Write a tokenization function to process your text data"
   ]
  },
  {
   "cell_type": "code",
   "execution_count": 5,
   "metadata": {},
   "outputs": [],
   "source": [
    "import re\n",
    "\n",
    "url_regex = r'http[s]?://(?:[a-zA-Z]|[0-9]|[$-_@.&+]|[!*\\(\\),]|(?:%[0-9a-fA-F][0-9a-fA-F]))+'\n",
    "url_placeholder = '_URL_'\n",
    "\n",
    "punctuation_tokenizer = RegexpTokenizer(r'\\w+')\n",
    "\n",
    "lemmatizer = WordNetLemmatizer()\n",
    "\n",
    "def create_placeholder_for_urls(text):\n",
    "    return re.sub(url_regex, url_placeholder, text)\n",
    "\n",
    "def remove_all_punctuation(text):\n",
    "    return punctuation_tokenizer.tokenize(text)\n",
    "\n",
    "def tokenize(text):\n",
    "    lower_text = text.lower().strip()\n",
    "    placeholder_text = create_placeholder_for_urls(lower_text)\n",
    "    tokens = remove_all_punctuation(placeholder_text) # word_tokenize(placeholder_text)\n",
    "    return list(map(lemmatizer.lemmatize, tokens))"
   ]
  },
  {
   "cell_type": "code",
   "execution_count": null,
   "metadata": {},
   "outputs": [],
   "source": []
  },
  {
   "cell_type": "markdown",
   "metadata": {},
   "source": [
    "### 3. Build a machine learning pipeline\n",
    "This machine pipeline should take in the `message` column as input and output classification results on the other 36 categories in the dataset. You may find the [MultiOutputClassifier](http://scikit-learn.org/stable/modules/generated/sklearn.multioutput.MultiOutputClassifier.html) helpful for predicting multiple target variables."
   ]
  },
  {
   "cell_type": "markdown",
   "metadata": {},
   "source": [
    "### 4. Train pipeline\n",
    "- Split data into train and test sets\n",
    "- Train pipeline"
   ]
  },
  {
   "cell_type": "code",
   "execution_count": 69,
   "metadata": {},
   "outputs": [],
   "source": [
    "X_train, X_test, y_train, y_test = train_test_split(X, Y, random_state = 42)"
   ]
  },
  {
   "cell_type": "code",
   "execution_count": 70,
   "metadata": {},
   "outputs": [],
   "source": [
    "pipeline = Pipeline([\n",
    "        ('vectorizer', CountVectorizer(tokenizer=tokenize)),\n",
    "        ('tfidf', TfidfTransformer()),\n",
    "        ('classifier', MultiOutputClassifier(RandomForestClassifier(n_estimators = 10)))\n",
    "])"
   ]
  },
  {
   "cell_type": "code",
   "execution_count": 71,
   "metadata": {},
   "outputs": [
    {
     "data": {
      "text/plain": [
       "Pipeline(memory=None,\n",
       "         steps=[('vectorizer',\n",
       "                 CountVectorizer(analyzer='word', binary=False,\n",
       "                                 decode_error='strict',\n",
       "                                 dtype=<class 'numpy.int64'>, encoding='utf-8',\n",
       "                                 input='content', lowercase=True, max_df=1.0,\n",
       "                                 max_features=None, min_df=1,\n",
       "                                 ngram_range=(1, 1), preprocessor=None,\n",
       "                                 stop_words=None, strip_accents=None,\n",
       "                                 token_pattern='(?u)\\\\b\\\\w\\\\w+\\\\b',\n",
       "                                 tokenizer=<function toke...\n",
       "                 MultiOutputClassifier(estimator=RandomForestClassifier(bootstrap=True,\n",
       "                                                                        class_weight=None,\n",
       "                                                                        criterion='gini',\n",
       "                                                                        max_depth=None,\n",
       "                                                                        max_features='auto',\n",
       "                                                                        max_leaf_nodes=None,\n",
       "                                                                        min_impurity_decrease=0.0,\n",
       "                                                                        min_impurity_split=None,\n",
       "                                                                        min_samples_leaf=1,\n",
       "                                                                        min_samples_split=2,\n",
       "                                                                        min_weight_fraction_leaf=0.0,\n",
       "                                                                        n_estimators=10,\n",
       "                                                                        n_jobs=None,\n",
       "                                                                        oob_score=False,\n",
       "                                                                        random_state=None,\n",
       "                                                                        verbose=0,\n",
       "                                                                        warm_start=False),\n",
       "                                       n_jobs=None))],\n",
       "         verbose=False)"
      ]
     },
     "execution_count": 71,
     "metadata": {},
     "output_type": "execute_result"
    }
   ],
   "source": [
    "pipeline.fit(X_train, y_train)"
   ]
  },
  {
   "cell_type": "code",
   "execution_count": 72,
   "metadata": {},
   "outputs": [],
   "source": [
    "y_pred = pipeline.predict(X_test)"
   ]
  },
  {
   "cell_type": "code",
   "execution_count": 19,
   "metadata": {},
   "outputs": [],
   "source": [
    "def display_results(column_name, column_index, y_test, y_pred):\n",
    "    \n",
    "    curr_y_test = y_test[[column_name]]\n",
    "    curr_y_pred = y_pred[:, column_index]\n",
    "    \n",
    "    labels = [0,1] # np.unique(curr_y_test)\n",
    "    confusion_mat = confusion_matrix(curr_y_test, curr_y_pred, labels=labels)\n",
    "    accuracy = (curr_y_test[column_name] == curr_y_pred).mean()\n",
    "\n",
    "    print(\"Labels:\", labels)\n",
    "    print(\"Confusion Matrix:\\n\", confusion_mat)\n",
    "    print(\"Accuracy:\", accuracy)"
   ]
  },
  {
   "cell_type": "code",
   "execution_count": 73,
   "metadata": {},
   "outputs": [
    {
     "name": "stdout",
     "output_type": "stream",
     "text": [
      "Category: related at index 0\n",
      "Labels: [0, 1]\n",
      "Confusion Matrix:\n",
      " [[ 745  794]\n",
      " [ 468 4539]]\n",
      "Accuracy: 0.8072105102352581\n",
      "\n",
      "\n",
      "\n",
      "Category: request at index 1\n",
      "Labels: [0, 1]\n",
      "Confusion Matrix:\n",
      " [[5312  111]\n",
      " [ 646  477]]\n",
      "Accuracy: 0.8843568591506263\n",
      "\n",
      "\n",
      "\n",
      "Category: offer at index 2\n",
      "Labels: [0, 1]\n",
      "Confusion Matrix:\n",
      " [[6512    0]\n",
      " [  34    0]]\n",
      "Accuracy: 0.9948059883898565\n",
      "\n",
      "\n",
      "\n",
      "Category: aid_related at index 3\n",
      "Labels: [0, 1]\n",
      "Confusion Matrix:\n",
      " [[3268  516]\n",
      " [1157 1605]]\n",
      "Accuracy: 0.7444240757714635\n",
      "\n",
      "\n",
      "\n",
      "Category: medical_help at index 4\n",
      "Labels: [0, 1]\n",
      "Confusion Matrix:\n",
      " [[5990   26]\n",
      " [ 479   51]]\n",
      "Accuracy: 0.9228536510846318\n",
      "\n",
      "\n",
      "\n",
      "Category: medical_products at index 5\n",
      "Labels: [0, 1]\n",
      "Confusion Matrix:\n",
      " [[6215   10]\n",
      " [ 290   31]]\n",
      "Accuracy: 0.9541704857928506\n",
      "\n",
      "\n",
      "\n",
      "Category: search_and_rescue at index 6\n",
      "Labels: [0, 1]\n",
      "Confusion Matrix:\n",
      " [[6367   12]\n",
      " [ 145   22]]\n",
      "Accuracy: 0.9760158875649252\n",
      "\n",
      "\n",
      "\n",
      "Category: security at index 7\n",
      "Labels: [0, 1]\n",
      "Confusion Matrix:\n",
      " [[6419    3]\n",
      " [ 124    0]]\n",
      "Accuracy: 0.98059883898564\n",
      "\n",
      "\n",
      "\n",
      "Category: military at index 8\n",
      "Labels: [0, 1]\n",
      "Confusion Matrix:\n",
      " [[6304    9]\n",
      " [ 221   12]]\n",
      "Accuracy: 0.9648640391078521\n",
      "\n",
      "\n",
      "\n",
      "Category: child_alone at index 9\n",
      "Labels: [0, 1]\n",
      "Confusion Matrix:\n",
      " [[6546    0]\n",
      " [   0    0]]\n",
      "Accuracy: 1.0\n",
      "\n",
      "\n",
      "\n",
      "Category: water at index 10\n",
      "Labels: [0, 1]\n",
      "Confusion Matrix:\n",
      " [[6074   40]\n",
      " [ 243  189]]\n",
      "Accuracy: 0.9567674915979224\n",
      "\n",
      "\n",
      "\n",
      "Category: food at index 11\n",
      "Labels: [0, 1]\n",
      "Confusion Matrix:\n",
      " [[5729   75]\n",
      " [ 317  425]]\n",
      "Accuracy: 0.9401161014359914\n",
      "\n",
      "\n",
      "\n",
      "Category: shelter at index 12\n",
      "Labels: [0, 1]\n",
      "Confusion Matrix:\n",
      " [[5923   47]\n",
      " [ 411  165]]\n",
      "Accuracy: 0.9300336083104186\n",
      "\n",
      "\n",
      "\n",
      "Category: clothing at index 13\n",
      "Labels: [0, 1]\n",
      "Confusion Matrix:\n",
      " [[6448    1]\n",
      " [  88    9]]\n",
      "Accuracy: 0.9864039107852124\n",
      "\n",
      "\n",
      "\n",
      "Category: money at index 14\n",
      "Labels: [0, 1]\n",
      "Confusion Matrix:\n",
      " [[6383    3]\n",
      " [ 156    4]]\n",
      "Accuracy: 0.9757103574702108\n",
      "\n",
      "\n",
      "\n",
      "Category: missing_people at index 15\n",
      "Labels: [0, 1]\n",
      "Confusion Matrix:\n",
      " [[6470    1]\n",
      " [  71    4]]\n",
      "Accuracy: 0.9890009165902841\n",
      "\n",
      "\n",
      "\n",
      "Category: refugees at index 16\n",
      "Labels: [0, 1]\n",
      "Confusion Matrix:\n",
      " [[6326    7]\n",
      " [ 205    8]]\n",
      "Accuracy: 0.9676138099602811\n",
      "\n",
      "\n",
      "\n",
      "Category: death at index 17\n",
      "Labels: [0, 1]\n",
      "Confusion Matrix:\n",
      " [[6258   13]\n",
      " [ 222   53]]\n",
      "Accuracy: 0.9641002138710663\n",
      "\n",
      "\n",
      "\n",
      "Category: other_aid at index 18\n",
      "Labels: [0, 1]\n",
      "Confusion Matrix:\n",
      " [[5639   56]\n",
      " [ 805   46]]\n",
      "Accuracy: 0.8684692942254812\n",
      "\n",
      "\n",
      "\n",
      "Category: infrastructure_related at index 19\n",
      "Labels: [0, 1]\n",
      "Confusion Matrix:\n",
      " [[6120    7]\n",
      " [ 414    5]]\n",
      "Accuracy: 0.9356859150626337\n",
      "\n",
      "\n",
      "\n",
      "Category: transport at index 20\n",
      "Labels: [0, 1]\n",
      "Confusion Matrix:\n",
      " [[6239   16]\n",
      " [ 278   13]]\n",
      "Accuracy: 0.9550870760769936\n",
      "\n",
      "\n",
      "\n",
      "Category: buildings at index 21\n",
      "Labels: [0, 1]\n",
      "Confusion Matrix:\n",
      " [[6223   12]\n",
      " [ 268   43]]\n",
      "Accuracy: 0.9572257867399939\n",
      "\n",
      "\n",
      "\n",
      "Category: electricity at index 22\n",
      "Labels: [0, 1]\n",
      "Confusion Matrix:\n",
      " [[6413    3]\n",
      " [ 124    6]]\n",
      "Accuracy: 0.98059883898564\n",
      "\n",
      "\n",
      "\n",
      "Category: tools at index 23\n",
      "Labels: [0, 1]\n",
      "Confusion Matrix:\n",
      " [[6517    0]\n",
      " [  29    0]]\n",
      "Accuracy: 0.9955698136266422\n",
      "\n",
      "\n",
      "\n",
      "Category: hospitals at index 24\n",
      "Labels: [0, 1]\n",
      "Confusion Matrix:\n",
      " [[6488    0]\n",
      " [  58    0]]\n",
      "Accuracy: 0.9911396272532844\n",
      "\n",
      "\n",
      "\n",
      "Category: shops at index 25\n",
      "Labels: [0, 1]\n",
      "Confusion Matrix:\n",
      " [[6519    0]\n",
      " [  27    0]]\n",
      "Accuracy: 0.9958753437213566\n",
      "\n",
      "\n",
      "\n",
      "Category: aid_centers at index 26\n",
      "Labels: [0, 1]\n",
      "Confusion Matrix:\n",
      " [[6474    0]\n",
      " [  72    0]]\n",
      "Accuracy: 0.9890009165902841\n",
      "\n",
      "\n",
      "\n",
      "Category: other_infrastructure at index 27\n",
      "Labels: [0, 1]\n",
      "Confusion Matrix:\n",
      " [[6229   10]\n",
      " [ 302    5]]\n",
      "Accuracy: 0.9523373052245646\n",
      "\n",
      "\n",
      "\n",
      "Category: weather_related at index 28\n",
      "Labels: [0, 1]\n",
      "Confusion Matrix:\n",
      " [[4539  218]\n",
      " [ 683 1106]]\n",
      "Accuracy: 0.8623586923311947\n",
      "\n",
      "\n",
      "\n",
      "Category: floods at index 29\n",
      "Labels: [0, 1]\n",
      "Confusion Matrix:\n",
      " [[6001   29]\n",
      " [ 326  190]]\n",
      "Accuracy: 0.9457684081882065\n",
      "\n",
      "\n",
      "\n",
      "Category: storm at index 30\n",
      "Labels: [0, 1]\n",
      "Confusion Matrix:\n",
      " [[5877  104]\n",
      " [ 325  240]]\n",
      "Accuracy: 0.9344637946837764\n",
      "\n",
      "\n",
      "\n",
      "Category: fire at index 31\n",
      "Labels: [0, 1]\n",
      "Confusion Matrix:\n",
      " [[6475    0]\n",
      " [  71    0]]\n",
      "Accuracy: 0.9891536816376413\n",
      "\n",
      "\n",
      "\n",
      "Category: earthquake at index 32\n",
      "Labels: [0, 1]\n",
      "Confusion Matrix:\n",
      " [[5870   48]\n",
      " [ 154  474]]\n",
      "Accuracy: 0.9691414604338527\n",
      "\n",
      "\n",
      "\n",
      "Category: cold at index 33\n",
      "Labels: [0, 1]\n",
      "Confusion Matrix:\n",
      " [[6404    5]\n",
      " [ 128    9]]\n",
      "Accuracy: 0.9796822487014971\n",
      "\n",
      "\n",
      "\n",
      "Category: other_weather at index 34\n",
      "Labels: [0, 1]\n",
      "Confusion Matrix:\n",
      " [[6188    8]\n",
      " [ 344    6]]\n",
      "Accuracy: 0.946226703330278\n",
      "\n",
      "\n",
      "\n",
      "Category: direct_report at index 35\n",
      "Labels: [0, 1]\n",
      "Confusion Matrix:\n",
      " [[5123  158]\n",
      " [ 868  397]]\n",
      "Accuracy: 0.843263061411549\n",
      "\n",
      "\n",
      "\n"
     ]
    }
   ],
   "source": [
    "for idx, name in enumerate(list(y_test.columns)):\n",
    "    \n",
    "    print(f'Category: {name} at index {idx}')\n",
    "    \n",
    "    display_results(name, idx, y_test, y_pred)\n",
    "    \n",
    "    print('\\n\\n')"
   ]
  },
  {
   "cell_type": "code",
   "execution_count": 118,
   "metadata": {},
   "outputs": [
    {
     "name": "stdout",
     "output_type": "stream",
     "text": [
      "Labels: [0, 1]\n",
      "Confusion Matrix:\n",
      " [[5392   87]\n",
      " [ 664  403]]\n",
      "Accuracy: 0.8852734494347694\n"
     ]
    }
   ],
   "source": [
    "display_results(y_test, y_pred)"
   ]
  },
  {
   "cell_type": "markdown",
   "metadata": {},
   "source": [
    "### 5. Test your model\n",
    "Report the f1 score, precision and recall for each output category of the dataset. You can do this by iterating through the columns and calling sklearn's `classification_report` on each."
   ]
  },
  {
   "cell_type": "code",
   "execution_count": 37,
   "metadata": {},
   "outputs": [
    {
     "name": "stdout",
     "output_type": "stream",
     "text": [
      "Collecting en_core_web_sm==2.2.5 from https://github.com/explosion/spacy-models/releases/download/en_core_web_sm-2.2.5/en_core_web_sm-2.2.5.tar.gz#egg=en_core_web_sm==2.2.5\n",
      "\u001b[?25l  Downloading https://github.com/explosion/spacy-models/releases/download/en_core_web_sm-2.2.5/en_core_web_sm-2.2.5.tar.gz (12.0MB)\n",
      "\u001b[K     |████████████████████████████████| 12.0MB 371kB/s eta 0:00:01\n",
      "\u001b[?25hRequirement already satisfied: spacy>=2.2.2 in /home/bruno/anaconda3/lib/python3.7/site-packages (from en_core_web_sm==2.2.5) (2.2.3)\n",
      "Requirement already satisfied: requests<3.0.0,>=2.13.0 in /home/bruno/anaconda3/lib/python3.7/site-packages (from spacy>=2.2.2->en_core_web_sm==2.2.5) (2.22.0)\n",
      "Requirement already satisfied: plac<1.2.0,>=0.9.6 in /home/bruno/anaconda3/lib/python3.7/site-packages (from spacy>=2.2.2->en_core_web_sm==2.2.5) (1.1.3)\n",
      "Requirement already satisfied: srsly<1.1.0,>=0.1.0 in /home/bruno/anaconda3/lib/python3.7/site-packages (from spacy>=2.2.2->en_core_web_sm==2.2.5) (1.0.1)\n",
      "Requirement already satisfied: murmurhash<1.1.0,>=0.28.0 in /home/bruno/anaconda3/lib/python3.7/site-packages (from spacy>=2.2.2->en_core_web_sm==2.2.5) (1.0.2)\n",
      "Requirement already satisfied: blis<0.5.0,>=0.4.0 in /home/bruno/anaconda3/lib/python3.7/site-packages (from spacy>=2.2.2->en_core_web_sm==2.2.5) (0.4.1)\n",
      "Requirement already satisfied: cymem<2.1.0,>=2.0.2 in /home/bruno/anaconda3/lib/python3.7/site-packages (from spacy>=2.2.2->en_core_web_sm==2.2.5) (2.0.3)\n",
      "Requirement already satisfied: preshed<3.1.0,>=3.0.2 in /home/bruno/anaconda3/lib/python3.7/site-packages (from spacy>=2.2.2->en_core_web_sm==2.2.5) (3.0.2)\n",
      "Requirement already satisfied: numpy>=1.15.0 in /home/bruno/anaconda3/lib/python3.7/site-packages (from spacy>=2.2.2->en_core_web_sm==2.2.5) (1.17.2)\n",
      "Requirement already satisfied: thinc<7.4.0,>=7.3.0 in /home/bruno/anaconda3/lib/python3.7/site-packages (from spacy>=2.2.2->en_core_web_sm==2.2.5) (7.3.1)\n",
      "Requirement already satisfied: setuptools in /home/bruno/anaconda3/lib/python3.7/site-packages (from spacy>=2.2.2->en_core_web_sm==2.2.5) (41.4.0)\n",
      "Requirement already satisfied: wasabi<1.1.0,>=0.4.0 in /home/bruno/anaconda3/lib/python3.7/site-packages (from spacy>=2.2.2->en_core_web_sm==2.2.5) (0.6.0)\n",
      "Requirement already satisfied: catalogue<1.1.0,>=0.0.7 in /home/bruno/anaconda3/lib/python3.7/site-packages (from spacy>=2.2.2->en_core_web_sm==2.2.5) (0.2.1)\n",
      "Requirement already satisfied: chardet<3.1.0,>=3.0.2 in /home/bruno/anaconda3/lib/python3.7/site-packages (from requests<3.0.0,>=2.13.0->spacy>=2.2.2->en_core_web_sm==2.2.5) (3.0.4)\n",
      "Requirement already satisfied: idna<2.9,>=2.5 in /home/bruno/anaconda3/lib/python3.7/site-packages (from requests<3.0.0,>=2.13.0->spacy>=2.2.2->en_core_web_sm==2.2.5) (2.8)\n",
      "Requirement already satisfied: urllib3!=1.25.0,!=1.25.1,<1.26,>=1.21.1 in /home/bruno/anaconda3/lib/python3.7/site-packages (from requests<3.0.0,>=2.13.0->spacy>=2.2.2->en_core_web_sm==2.2.5) (1.24.2)\n",
      "Requirement already satisfied: certifi>=2017.4.17 in /home/bruno/anaconda3/lib/python3.7/site-packages (from requests<3.0.0,>=2.13.0->spacy>=2.2.2->en_core_web_sm==2.2.5) (2019.9.11)\n",
      "Requirement already satisfied: tqdm<5.0.0,>=4.10.0 in /home/bruno/anaconda3/lib/python3.7/site-packages (from thinc<7.4.0,>=7.3.0->spacy>=2.2.2->en_core_web_sm==2.2.5) (4.36.1)\n",
      "Requirement already satisfied: importlib-metadata>=0.20; python_version < \"3.8\" in /home/bruno/anaconda3/lib/python3.7/site-packages (from catalogue<1.1.0,>=0.0.7->spacy>=2.2.2->en_core_web_sm==2.2.5) (0.23)\n",
      "Requirement already satisfied: zipp>=0.5 in /home/bruno/anaconda3/lib/python3.7/site-packages (from importlib-metadata>=0.20; python_version < \"3.8\"->catalogue<1.1.0,>=0.0.7->spacy>=2.2.2->en_core_web_sm==2.2.5) (0.6.0)\n",
      "Requirement already satisfied: more-itertools in /home/bruno/anaconda3/lib/python3.7/site-packages (from zipp>=0.5->importlib-metadata>=0.20; python_version < \"3.8\"->catalogue<1.1.0,>=0.0.7->spacy>=2.2.2->en_core_web_sm==2.2.5) (7.2.0)\n",
      "Building wheels for collected packages: en-core-web-sm\n",
      "  Building wheel for en-core-web-sm (setup.py) ... \u001b[?25ldone\n",
      "\u001b[?25h  Created wheel for en-core-web-sm: filename=en_core_web_sm-2.2.5-cp37-none-any.whl size=12011740 sha256=040feb54600fa7b091be5adf18cd059f30b00d622659129130805c2328c9bd93\n",
      "  Stored in directory: /tmp/pip-ephem-wheel-cache-h2ra2hua/wheels/6a/47/fb/6b5a0b8906d8e8779246c67d4658fd8a544d4a03a75520197a\n",
      "Successfully built en-core-web-sm\n",
      "Installing collected packages: en-core-web-sm\n",
      "Successfully installed en-core-web-sm-2.2.5\n",
      "\u001b[38;5;2m✔ Download and installation successful\u001b[0m\n",
      "You can now load the model via spacy.load('en_core_web_sm')\n"
     ]
    }
   ],
   "source": [
    "# !pip install spacy\n",
    "!python -m spacy download en_core_web_sm"
   ]
  },
  {
   "cell_type": "code",
   "execution_count": 74,
   "metadata": {},
   "outputs": [
    {
     "name": "stdout",
     "output_type": "stream",
     "text": [
      "                        precision    recall  f1-score   support\n",
      "\n",
      "               related       0.85      0.91      0.88      5007\n",
      "               request       0.81      0.42      0.56      1123\n",
      "                 offer       0.00      0.00      0.00        34\n",
      "           aid_related       0.76      0.58      0.66      2762\n",
      "          medical_help       0.66      0.10      0.17       530\n",
      "      medical_products       0.76      0.10      0.17       321\n",
      "     search_and_rescue       0.65      0.13      0.22       167\n",
      "              security       0.00      0.00      0.00       124\n",
      "              military       0.57      0.05      0.09       233\n",
      "           child_alone       0.00      0.00      0.00         0\n",
      "                 water       0.83      0.44      0.57       432\n",
      "                  food       0.85      0.57      0.68       742\n",
      "               shelter       0.78      0.29      0.42       576\n",
      "              clothing       0.90      0.09      0.17        97\n",
      "                 money       0.57      0.03      0.05       160\n",
      "        missing_people       0.80      0.05      0.10        75\n",
      "              refugees       0.53      0.04      0.07       213\n",
      "                 death       0.80      0.19      0.31       275\n",
      "             other_aid       0.45      0.05      0.10       851\n",
      "infrastructure_related       0.42      0.01      0.02       419\n",
      "             transport       0.45      0.04      0.08       291\n",
      "             buildings       0.78      0.14      0.23       311\n",
      "           electricity       0.67      0.05      0.09       130\n",
      "                 tools       0.00      0.00      0.00        29\n",
      "             hospitals       0.00      0.00      0.00        58\n",
      "                 shops       0.00      0.00      0.00        27\n",
      "           aid_centers       0.00      0.00      0.00        72\n",
      "  other_infrastructure       0.33      0.02      0.03       307\n",
      "       weather_related       0.84      0.62      0.71      1789\n",
      "                floods       0.87      0.37      0.52       516\n",
      "                 storm       0.70      0.42      0.53       565\n",
      "                  fire       0.00      0.00      0.00        71\n",
      "            earthquake       0.91      0.75      0.82       628\n",
      "                  cold       0.64      0.07      0.12       137\n",
      "         other_weather       0.43      0.02      0.03       350\n",
      "         direct_report       0.72      0.31      0.44      1265\n",
      "\n",
      "             micro avg       0.81      0.49      0.61     20687\n",
      "             macro avg       0.54      0.19      0.25     20687\n",
      "          weighted avg       0.74      0.49      0.55     20687\n",
      "           samples avg       0.64      0.44      0.48     20687\n",
      "\n"
     ]
    },
    {
     "name": "stderr",
     "output_type": "stream",
     "text": [
      "/home/bruno/anaconda3/lib/python3.7/site-packages/sklearn/metrics/classification.py:1437: UndefinedMetricWarning: Precision and F-score are ill-defined and being set to 0.0 in labels with no predicted samples.\n",
      "  'precision', 'predicted', average, warn_for)\n",
      "/home/bruno/anaconda3/lib/python3.7/site-packages/sklearn/metrics/classification.py:1439: UndefinedMetricWarning: Recall and F-score are ill-defined and being set to 0.0 in labels with no true samples.\n",
      "  'recall', 'true', average, warn_for)\n",
      "/home/bruno/anaconda3/lib/python3.7/site-packages/sklearn/metrics/classification.py:1437: UndefinedMetricWarning: Precision and F-score are ill-defined and being set to 0.0 in samples with no predicted labels.\n",
      "  'precision', 'predicted', average, warn_for)\n",
      "/home/bruno/anaconda3/lib/python3.7/site-packages/sklearn/metrics/classification.py:1439: UndefinedMetricWarning: Recall and F-score are ill-defined and being set to 0.0 in samples with no true labels.\n",
      "  'recall', 'true', average, warn_for)\n"
     ]
    }
   ],
   "source": [
    "print(classification_report(y_test.values, y_pred, target_names=labels, output_dict = False))"
   ]
  },
  {
   "cell_type": "code",
   "execution_count": 175,
   "metadata": {},
   "outputs": [],
   "source": [
    "report = classification_report(y_test.values, y_pred, target_names=labels, output_dict = True)"
   ]
  },
  {
   "cell_type": "code",
   "execution_count": 176,
   "metadata": {},
   "outputs": [],
   "source": [
    "def map_with_key(key):\n",
    "    result = report.get(key)\n",
    "    result['category'] = key\n",
    "    return result"
   ]
  },
  {
   "cell_type": "code",
   "execution_count": 177,
   "metadata": {},
   "outputs": [
    {
     "data": {
      "text/html": [
       "<div>\n",
       "<style scoped>\n",
       "    .dataframe tbody tr th:only-of-type {\n",
       "        vertical-align: middle;\n",
       "    }\n",
       "\n",
       "    .dataframe tbody tr th {\n",
       "        vertical-align: top;\n",
       "    }\n",
       "\n",
       "    .dataframe thead th {\n",
       "        text-align: right;\n",
       "    }\n",
       "</style>\n",
       "<table border=\"1\" class=\"dataframe\">\n",
       "  <thead>\n",
       "    <tr style=\"text-align: right;\">\n",
       "      <th></th>\n",
       "      <th>precision</th>\n",
       "      <th>recall</th>\n",
       "      <th>f1-score</th>\n",
       "      <th>support</th>\n",
       "      <th>category</th>\n",
       "    </tr>\n",
       "  </thead>\n",
       "  <tbody>\n",
       "    <tr>\n",
       "      <td>0</td>\n",
       "      <td>0.862295</td>\n",
       "      <td>0.892950</td>\n",
       "      <td>0.877355</td>\n",
       "      <td>5007</td>\n",
       "      <td>related</td>\n",
       "    </tr>\n",
       "    <tr>\n",
       "      <td>1</td>\n",
       "      <td>0.730947</td>\n",
       "      <td>0.563669</td>\n",
       "      <td>0.636501</td>\n",
       "      <td>1123</td>\n",
       "      <td>request</td>\n",
       "    </tr>\n",
       "    <tr>\n",
       "      <td>2</td>\n",
       "      <td>1.000000</td>\n",
       "      <td>0.029412</td>\n",
       "      <td>0.057143</td>\n",
       "      <td>34</td>\n",
       "      <td>offer</td>\n",
       "    </tr>\n",
       "    <tr>\n",
       "      <td>3</td>\n",
       "      <td>0.717999</td>\n",
       "      <td>0.660029</td>\n",
       "      <td>0.687795</td>\n",
       "      <td>2762</td>\n",
       "      <td>aid_related</td>\n",
       "    </tr>\n",
       "    <tr>\n",
       "      <td>4</td>\n",
       "      <td>0.579505</td>\n",
       "      <td>0.309434</td>\n",
       "      <td>0.403444</td>\n",
       "      <td>530</td>\n",
       "      <td>medical_help</td>\n",
       "    </tr>\n",
       "    <tr>\n",
       "      <td>5</td>\n",
       "      <td>0.556818</td>\n",
       "      <td>0.305296</td>\n",
       "      <td>0.394366</td>\n",
       "      <td>321</td>\n",
       "      <td>medical_products</td>\n",
       "    </tr>\n",
       "    <tr>\n",
       "      <td>6</td>\n",
       "      <td>0.590909</td>\n",
       "      <td>0.233533</td>\n",
       "      <td>0.334764</td>\n",
       "      <td>167</td>\n",
       "      <td>search_and_rescue</td>\n",
       "    </tr>\n",
       "    <tr>\n",
       "      <td>7</td>\n",
       "      <td>0.294118</td>\n",
       "      <td>0.040323</td>\n",
       "      <td>0.070922</td>\n",
       "      <td>124</td>\n",
       "      <td>security</td>\n",
       "    </tr>\n",
       "    <tr>\n",
       "      <td>8</td>\n",
       "      <td>0.673267</td>\n",
       "      <td>0.291845</td>\n",
       "      <td>0.407186</td>\n",
       "      <td>233</td>\n",
       "      <td>military</td>\n",
       "    </tr>\n",
       "    <tr>\n",
       "      <td>9</td>\n",
       "      <td>0.751613</td>\n",
       "      <td>0.539352</td>\n",
       "      <td>0.628032</td>\n",
       "      <td>432</td>\n",
       "      <td>water</td>\n",
       "    </tr>\n",
       "    <tr>\n",
       "      <td>10</td>\n",
       "      <td>0.810403</td>\n",
       "      <td>0.650943</td>\n",
       "      <td>0.721973</td>\n",
       "      <td>742</td>\n",
       "      <td>food</td>\n",
       "    </tr>\n",
       "    <tr>\n",
       "      <td>11</td>\n",
       "      <td>0.741688</td>\n",
       "      <td>0.503472</td>\n",
       "      <td>0.599793</td>\n",
       "      <td>576</td>\n",
       "      <td>shelter</td>\n",
       "    </tr>\n",
       "    <tr>\n",
       "      <td>12</td>\n",
       "      <td>0.823529</td>\n",
       "      <td>0.288660</td>\n",
       "      <td>0.427481</td>\n",
       "      <td>97</td>\n",
       "      <td>clothing</td>\n",
       "    </tr>\n",
       "    <tr>\n",
       "      <td>13</td>\n",
       "      <td>0.578125</td>\n",
       "      <td>0.231250</td>\n",
       "      <td>0.330357</td>\n",
       "      <td>160</td>\n",
       "      <td>money</td>\n",
       "    </tr>\n",
       "    <tr>\n",
       "      <td>14</td>\n",
       "      <td>0.700000</td>\n",
       "      <td>0.186667</td>\n",
       "      <td>0.294737</td>\n",
       "      <td>75</td>\n",
       "      <td>missing_people</td>\n",
       "    </tr>\n",
       "    <tr>\n",
       "      <td>15</td>\n",
       "      <td>0.642857</td>\n",
       "      <td>0.253521</td>\n",
       "      <td>0.363636</td>\n",
       "      <td>213</td>\n",
       "      <td>refugees</td>\n",
       "    </tr>\n",
       "    <tr>\n",
       "      <td>16</td>\n",
       "      <td>0.709091</td>\n",
       "      <td>0.425455</td>\n",
       "      <td>0.531818</td>\n",
       "      <td>275</td>\n",
       "      <td>death</td>\n",
       "    </tr>\n",
       "    <tr>\n",
       "      <td>17</td>\n",
       "      <td>0.371534</td>\n",
       "      <td>0.236193</td>\n",
       "      <td>0.288793</td>\n",
       "      <td>851</td>\n",
       "      <td>other_aid</td>\n",
       "    </tr>\n",
       "    <tr>\n",
       "      <td>18</td>\n",
       "      <td>0.251534</td>\n",
       "      <td>0.097852</td>\n",
       "      <td>0.140893</td>\n",
       "      <td>419</td>\n",
       "      <td>infrastructure_related</td>\n",
       "    </tr>\n",
       "    <tr>\n",
       "      <td>19</td>\n",
       "      <td>0.530435</td>\n",
       "      <td>0.209622</td>\n",
       "      <td>0.300493</td>\n",
       "      <td>291</td>\n",
       "      <td>transport</td>\n",
       "    </tr>\n",
       "  </tbody>\n",
       "</table>\n",
       "</div>"
      ],
      "text/plain": [
       "    precision    recall  f1-score  support                category\n",
       "0    0.862295  0.892950  0.877355     5007                 related\n",
       "1    0.730947  0.563669  0.636501     1123                 request\n",
       "2    1.000000  0.029412  0.057143       34                   offer\n",
       "3    0.717999  0.660029  0.687795     2762             aid_related\n",
       "4    0.579505  0.309434  0.403444      530            medical_help\n",
       "5    0.556818  0.305296  0.394366      321        medical_products\n",
       "6    0.590909  0.233533  0.334764      167       search_and_rescue\n",
       "7    0.294118  0.040323  0.070922      124                security\n",
       "8    0.673267  0.291845  0.407186      233                military\n",
       "9    0.751613  0.539352  0.628032      432                   water\n",
       "10   0.810403  0.650943  0.721973      742                    food\n",
       "11   0.741688  0.503472  0.599793      576                 shelter\n",
       "12   0.823529  0.288660  0.427481       97                clothing\n",
       "13   0.578125  0.231250  0.330357      160                   money\n",
       "14   0.700000  0.186667  0.294737       75          missing_people\n",
       "15   0.642857  0.253521  0.363636      213                refugees\n",
       "16   0.709091  0.425455  0.531818      275                   death\n",
       "17   0.371534  0.236193  0.288793      851               other_aid\n",
       "18   0.251534  0.097852  0.140893      419  infrastructure_related\n",
       "19   0.530435  0.209622  0.300493      291               transport"
      ]
     },
     "execution_count": 177,
     "metadata": {},
     "output_type": "execute_result"
    }
   ],
   "source": [
    "df_metrics = pd.DataFrame(list(map(map_with_key, labels)))\n",
    "df_metrics.head(20)"
   ]
  },
  {
   "cell_type": "code",
   "execution_count": 178,
   "metadata": {},
   "outputs": [
    {
     "data": {
      "image/png": "[encoded data removed]",
      "text/plain": [
       "<Figure size 432x1080 with 1 Axes>"
      ]
     },
     "metadata": {},
     "output_type": "display_data"
    }
   ],
   "source": [
    "import seaborn as sns\n",
    "import matplotlib.pyplot as plt\n",
    "\n",
    "sns.set(style=\"whitegrid\")\n",
    " \n",
    "f, ax = plt.subplots(figsize=(6, 15))\n",
    " \n",
    "sns.set_color_codes(\"muted\")\n",
    "sns.barplot(x=\"f1-score\", y=\"category\", data=df_metrics.sort_values(by = 'f1-score', ascending = False), label=\"Number of samples\", color=\"b\")\n",
    "\n",
    "ax.legend(ncol=2, loc=\"lower right\", frameon=True)\n",
    "\n",
    "sns.despine(left=True, bottom=True)"
   ]
  },
  {
   "cell_type": "markdown",
   "metadata": {},
   "source": [
    "#### Testing with stop words removal"
   ]
  },
  {
   "cell_type": "code",
   "execution_count": 8,
   "metadata": {},
   "outputs": [
    {
     "name": "stderr",
     "output_type": "stream",
     "text": [
      "[nltk_data] Downloading package punkt to /home/bruno/nltk_data...\n",
      "[nltk_data]   Package punkt is already up-to-date!\n",
      "[nltk_data] Downloading package stopwords to /home/bruno/nltk_data...\n",
      "[nltk_data]   Package stopwords is already up-to-date!\n"
     ]
    },
    {
     "data": {
      "text/plain": [
       "True"
      ]
     },
     "execution_count": 8,
     "metadata": {},
     "output_type": "execute_result"
    }
   ],
   "source": [
    "import nltk\n",
    "\n",
    "from nltk.corpus import stopwords\n",
    "\n",
    "from spacy.lang.en.stop_words import STOP_WORDS\n",
    "\n",
    "nltk.download('punkt')\n",
    "nltk.download('stopwords')"
   ]
  },
  {
   "cell_type": "code",
   "execution_count": 221,
   "metadata": {},
   "outputs": [],
   "source": [
    "import re\n",
    "\n",
    "url_regex = r'http[s]?://(?:[a-zA-Z]|[0-9]|[$-_@.&+]|[!*\\(\\),]|(?:%[0-9a-fA-F][0-9a-fA-F]))+'\n",
    "url_placeholder = '_URL_'\n",
    "\n",
    "lemmatizer = WordNetLemmatizer()\n",
    "\n",
    "def create_placeholder_for_urls(text):\n",
    "    return re.sub(url_regex, url_placeholder, text)\n",
    "\n",
    "def tokenize(text):\n",
    "    lower_text = text.lower().strip()\n",
    "    placeholder_text = create_placeholder_for_urls(lower_text)\n",
    "    tokens = remove_all_punctuation(placeholder_text) # word_tokenize(placeholder_text)\n",
    "    only_relevant_words = words_without_stopwords(tokens)\n",
    "    return list(map(lemmatizer.lemmatize, only_relevant_words))"
   ]
  },
  {
   "cell_type": "code",
   "execution_count": 222,
   "metadata": {},
   "outputs": [],
   "source": [
    "nltk_stop_words = stopwords.words('english')\n",
    "spacy_stop_words = list(STOP_WORDS)\n",
    "\n",
    "all_stop_words = set(nltk_stop_words + spacy_stop_words)\n",
    "\n",
    "def words_without_stopwords(words):\n",
    "    return list(filter(lambda w: w not in all_stop_words, words))"
   ]
  },
  {
   "cell_type": "code",
   "execution_count": 48,
   "metadata": {},
   "outputs": [],
   "source": [
    "pipeline = Pipeline([\n",
    "        ('vectorizer', CountVectorizer(tokenizer=tokenize)),\n",
    "        ('tfidf', TfidfTransformer()),\n",
    "        ('classifier', MultiOutputClassifier(RandomForestClassifier()))\n",
    "])"
   ]
  },
  {
   "cell_type": "code",
   "execution_count": 278,
   "metadata": {},
   "outputs": [],
   "source": [
    "X_train, X_test, y_train, y_test = train_test_split(X, Y.drop(['child_alone'], axis = 1), random_state = 42)"
   ]
  },
  {
   "cell_type": "code",
   "execution_count": 279,
   "metadata": {},
   "outputs": [
    {
     "name": "stdout",
     "output_type": "stream",
     "text": [
      "[LibLinear][LibLinear][LibLinear][LibLinear][LibLinear][LibLinear][LibLinear][LibLinear][LibLinear][LibLinear][LibLinear][LibLinear][LibLinear][LibLinear][LibLinear][LibLinear][LibLinear][LibLinear][LibLinear][LibLinear][LibLinear][LibLinear][LibLinear][LibLinear][LibLinear][LibLinear][LibLinear][LibLinear][LibLinear][LibLinear][LibLinear][LibLinear][LibLinear][LibLinear][LibLinear]"
     ]
    },
    {
     "data": {
      "text/plain": [
       "Pipeline(memory=None,\n",
       "         steps=[('features',\n",
       "                 FeatureUnion(n_jobs=None,\n",
       "                              transformer_list=[('text_pipeline',\n",
       "                                                 Pipeline(memory=None,\n",
       "                                                          steps=[('vect',\n",
       "                                                                  CountVectorizer(analyzer='word',\n",
       "                                                                                  binary=False,\n",
       "                                                                                  decode_error='strict',\n",
       "                                                                                  dtype=<class 'numpy.int64'>,\n",
       "                                                                                  encoding='utf-8',\n",
       "                                                                                  input='content',\n",
       "                                                                                  lowercase=True,\n",
       "                                                                                  max_df=1.0,\n",
       "                                                                                  max_features=None,\n",
       "                                                                                  min_df=1,\n",
       "                                                                                  ngram_range=(1,\n",
       "                                                                                               1),\n",
       "                                                                                  preprocessor=Non...\n",
       "                              transformer_weights=None, verbose=False)),\n",
       "                ('classifier',\n",
       "                 MultiOutputClassifier(estimator=LogisticRegression(C=35,\n",
       "                                                                    class_weight=None,\n",
       "                                                                    dual=False,\n",
       "                                                                    fit_intercept=True,\n",
       "                                                                    intercept_scaling=1,\n",
       "                                                                    l1_ratio=None,\n",
       "                                                                    max_iter=1000,\n",
       "                                                                    multi_class='ovr',\n",
       "                                                                    n_jobs=None,\n",
       "                                                                    penalty='l2',\n",
       "                                                                    random_state=42,\n",
       "                                                                    solver='liblinear',\n",
       "                                                                    tol=0.0001,\n",
       "                                                                    verbose=1,\n",
       "                                                                    warm_start=False),\n",
       "                                       n_jobs=None))],\n",
       "         verbose=False)"
      ]
     },
     "execution_count": 279,
     "metadata": {},
     "output_type": "execute_result"
    }
   ],
   "source": [
    "pipeline.fit(X_train.values, y_train.values)"
   ]
  },
  {
   "cell_type": "code",
   "execution_count": 280,
   "metadata": {},
   "outputs": [],
   "source": [
    "y_pred = pipeline.predict(X_test)"
   ]
  },
  {
   "cell_type": "code",
   "execution_count": 122,
   "metadata": {},
   "outputs": [
    {
     "data": {
      "text/plain": [
       "'child_alone'"
      ]
     },
     "execution_count": 122,
     "metadata": {},
     "output_type": "execute_result"
    }
   ],
   "source": [
    "labels.pop(labels.index('child_alone'))"
   ]
  },
  {
   "cell_type": "code",
   "execution_count": 282,
   "metadata": {},
   "outputs": [
    {
     "name": "stdout",
     "output_type": "stream",
     "text": [
      "                        precision    recall  f1-score   support\n",
      "\n",
      "               related       0.86      0.89      0.88      5007\n",
      "               request       0.73      0.57      0.64      1123\n",
      "                 offer       1.00      0.03      0.06        34\n",
      "           aid_related       0.72      0.67      0.69      2762\n",
      "          medical_help       0.58      0.32      0.41       530\n",
      "      medical_products       0.57      0.31      0.40       321\n",
      "     search_and_rescue       0.58      0.23      0.33       167\n",
      "              security       0.29      0.04      0.07       124\n",
      "              military       0.66      0.29      0.40       233\n",
      "                 water       0.76      0.54      0.63       432\n",
      "                  food       0.81      0.64      0.72       742\n",
      "               shelter       0.74      0.50      0.60       576\n",
      "              clothing       0.83      0.30      0.44        97\n",
      "                 money       0.59      0.23      0.33       160\n",
      "        missing_people       0.70      0.19      0.29        75\n",
      "              refugees       0.65      0.25      0.36       213\n",
      "                 death       0.71      0.44      0.54       275\n",
      "             other_aid       0.38      0.24      0.29       851\n",
      "infrastructure_related       0.27      0.10      0.15       419\n",
      "             transport       0.54      0.21      0.30       291\n",
      "             buildings       0.60      0.33      0.42       311\n",
      "           electricity       0.62      0.29      0.40       130\n",
      "                 tools       0.00      0.00      0.00        29\n",
      "             hospitals       0.25      0.03      0.06        58\n",
      "                 shops       0.25      0.04      0.06        27\n",
      "           aid_centers       0.10      0.01      0.02        72\n",
      "  other_infrastructure       0.26      0.07      0.11       307\n",
      "       weather_related       0.79      0.69      0.73      1789\n",
      "                floods       0.76      0.53      0.63       516\n",
      "                 storm       0.71      0.53      0.60       565\n",
      "                  fire       0.79      0.21      0.33        71\n",
      "            earthquake       0.88      0.69      0.77       628\n",
      "                  cold       0.59      0.28      0.38       137\n",
      "         other_weather       0.47      0.19      0.27       350\n",
      "         direct_report       0.61      0.46      0.52      1265\n",
      "\n",
      "             micro avg       0.74      0.58      0.65     20687\n",
      "             macro avg       0.59      0.32      0.40     20687\n",
      "          weighted avg       0.71      0.58      0.63     20687\n",
      "           samples avg       0.59      0.49      0.49     20687\n",
      "\n"
     ]
    },
    {
     "name": "stderr",
     "output_type": "stream",
     "text": [
      "/home/bruno/anaconda3/lib/python3.7/site-packages/sklearn/metrics/classification.py:1437: UndefinedMetricWarning: Precision and F-score are ill-defined and being set to 0.0 in labels with no predicted samples.\n",
      "  'precision', 'predicted', average, warn_for)\n",
      "/home/bruno/anaconda3/lib/python3.7/site-packages/sklearn/metrics/classification.py:1437: UndefinedMetricWarning: Precision and F-score are ill-defined and being set to 0.0 in samples with no predicted labels.\n",
      "  'precision', 'predicted', average, warn_for)\n",
      "/home/bruno/anaconda3/lib/python3.7/site-packages/sklearn/metrics/classification.py:1439: UndefinedMetricWarning: Recall and F-score are ill-defined and being set to 0.0 in samples with no true labels.\n",
      "  'recall', 'true', average, warn_for)\n"
     ]
    }
   ],
   "source": [
    "print(classification_report(y_test, y_pred, target_names=labels, output_dict = False))"
   ]
  },
  {
   "cell_type": "code",
   "execution_count": 104,
   "metadata": {},
   "outputs": [
    {
     "name": "stdout",
     "output_type": "stream",
     "text": [
      "                        precision    recall  f1-score   support\n",
      "\n",
      "               related       0.85      0.91      0.88      5007\n",
      "               request       0.78      0.43      0.56      1123\n",
      "                 offer       0.00      0.00      0.00        34\n",
      "           aid_related       0.75      0.60      0.67      2762\n",
      "          medical_help       0.68      0.10      0.17       530\n",
      "      medical_products       0.69      0.06      0.11       321\n",
      "     search_and_rescue       0.69      0.05      0.10       167\n",
      "              security       0.20      0.01      0.02       124\n",
      "              military       0.67      0.05      0.10       233\n",
      "           child_alone       0.00      0.00      0.00         0\n",
      "                 water       0.85      0.41      0.55       432\n",
      "                  food       0.88      0.53      0.66       742\n",
      "               shelter       0.79      0.39      0.52       576\n",
      "              clothing       0.83      0.15      0.26        97\n",
      "                 money       0.78      0.04      0.08       160\n",
      "        missing_people       0.67      0.03      0.05        75\n",
      "              refugees       0.67      0.02      0.04       213\n",
      "                 death       0.69      0.19      0.29       275\n",
      "             other_aid       0.44      0.04      0.08       851\n",
      "infrastructure_related       0.18      0.00      0.01       419\n",
      "             transport       0.59      0.08      0.14       291\n",
      "             buildings       0.76      0.11      0.20       311\n",
      "           electricity       1.00      0.05      0.10       130\n",
      "                 tools       0.00      0.00      0.00        29\n",
      "             hospitals       0.00      0.00      0.00        58\n",
      "                 shops       0.00      0.00      0.00        27\n",
      "           aid_centers       0.00      0.00      0.00        72\n",
      "  other_infrastructure       0.25      0.01      0.01       307\n",
      "       weather_related       0.83      0.62      0.71      1789\n",
      "                floods       0.87      0.40      0.55       516\n",
      "                 storm       0.72      0.41      0.52       565\n",
      "                  fire       0.00      0.00      0.00        71\n",
      "            earthquake       0.90      0.73      0.81       628\n",
      "                  cold       0.67      0.04      0.08       137\n",
      "         other_weather       0.52      0.05      0.09       350\n",
      "         direct_report       0.72      0.32      0.44      1265\n",
      "\n",
      "             micro avg       0.81      0.49      0.61     20687\n",
      "             macro avg       0.55      0.19      0.24     20687\n",
      "          weighted avg       0.74      0.49      0.55     20687\n",
      "           samples avg       0.64      0.44      0.48     20687\n",
      "\n"
     ]
    },
    {
     "name": "stderr",
     "output_type": "stream",
     "text": [
      "/home/bruno/anaconda3/lib/python3.7/site-packages/sklearn/metrics/classification.py:1437: UndefinedMetricWarning: Precision and F-score are ill-defined and being set to 0.0 in labels with no predicted samples.\n",
      "  'precision', 'predicted', average, warn_for)\n",
      "/home/bruno/anaconda3/lib/python3.7/site-packages/sklearn/metrics/classification.py:1439: UndefinedMetricWarning: Recall and F-score are ill-defined and being set to 0.0 in labels with no true samples.\n",
      "  'recall', 'true', average, warn_for)\n",
      "/home/bruno/anaconda3/lib/python3.7/site-packages/sklearn/metrics/classification.py:1437: UndefinedMetricWarning: Precision and F-score are ill-defined and being set to 0.0 in samples with no predicted labels.\n",
      "  'precision', 'predicted', average, warn_for)\n",
      "/home/bruno/anaconda3/lib/python3.7/site-packages/sklearn/metrics/classification.py:1439: UndefinedMetricWarning: Recall and F-score are ill-defined and being set to 0.0 in samples with no true labels.\n",
      "  'recall', 'true', average, warn_for)\n"
     ]
    }
   ],
   "source": [
    "print(classification_report(y_test, y_pred, target_names=labels, output_dict = False))"
   ]
  },
  {
   "cell_type": "markdown",
   "metadata": {},
   "source": [
    "### 6. Improve your model\n",
    "Use grid search to find better parameters. "
   ]
  },
  {
   "cell_type": "code",
   "execution_count": 164,
   "metadata": {},
   "outputs": [],
   "source": [
    "from sklearn.linear_model import LogisticRegression\n",
    "\n",
    "from sklearn.naive_bayes import MultinomialNB\n",
    "\n",
    "from sklearn.linear_model import PassiveAggressiveClassifier\n",
    "\n",
    "model = LogisticRegression(multi_class = 'ovr', verbose = 1, solver = 'liblinear', random_state = 42, C = 35, penalty = 'l2', max_iter = 1000) # PassiveAggressiveClassifier() # MultinomialNB(alpha=0.05) # "
   ]
  },
  {
   "cell_type": "code",
   "execution_count": 264,
   "metadata": {},
   "outputs": [],
   "source": [
    "from sklearn.base import BaseEstimator, TransformerMixin\n",
    "from nltk.tokenize import sent_tokenize\n",
    "\n",
    "class NumericDigitExtractor(BaseEstimator, TransformerMixin):\n",
    "\n",
    "    def starting_verb(self, text):\n",
    " \n",
    "        sentence_list = sent_tokenize(text)\n",
    "        \n",
    "        for sentence in sentence_list:\n",
    "            pos_tags = nltk.pos_tag(tokenize(sentence))\n",
    "            \n",
    "            return False if len(pos_tags) == 0 else next(filter(lambda c: c[1] == 'CD', pos_tags), None) is not None\n",
    "\n",
    "    def fit(self, x, y=None):\n",
    "        return self\n",
    "\n",
    "    def transform(self, X):\n",
    "        X_tagged = pd.Series(X).apply(self.starting_verb)\n",
    "        return pd.DataFrame(X_tagged)"
   ]
  },
  {
   "cell_type": "code",
   "execution_count": 248,
   "metadata": {},
   "outputs": [],
   "source": [
    "re.search('//t\\.co|@|#', 'Sandy #relief efforts in full swing @foodcoop @Park Slope Food Coop http : //t.co/XN3QwUct')"
   ]
  },
  {
   "cell_type": "code",
   "execution_count": 263,
   "metadata": {},
   "outputs": [
    {
     "data": {
      "text/plain": [
       "('a', 'CD')"
      ]
     },
     "execution_count": 263,
     "metadata": {},
     "output_type": "execute_result"
    }
   ],
   "source": []
  },
  {
   "cell_type": "code",
   "execution_count": 258,
   "metadata": {},
   "outputs": [
    {
     "data": {
      "text/plain": [
       "'un'"
      ]
     },
     "execution_count": 258,
     "metadata": {},
     "output_type": "execute_result"
    }
   ],
   "source": [
    "nltk.pos_tag(tokenize('UN reports Leogane 80-90 destroyed. Only Hospital St. Croix functioning. Needs supplies desperately.'))"
   ]
  },
  {
   "cell_type": "code",
   "execution_count": 266,
   "metadata": {},
   "outputs": [],
   "source": [
    "pipeline = Pipeline([\n",
    "        ('features', FeatureUnion([\n",
    "            ('text_pipeline', Pipeline([\n",
    "                ('vect', CountVectorizer(tokenizer=tokenize)),\n",
    "                ('tfidf', TfidfTransformer())\n",
    "            ])),\n",
    "            ('numeric_digit', NumericDigitExtractor())\n",
    "        ])),\n",
    "    \n",
    "        ('classifier', MultiOutputClassifier(model)) \n",
    "    ])"
   ]
  },
  {
   "cell_type": "code",
   "execution_count": 18,
   "metadata": {},
   "outputs": [],
   "source": [
    "parameters = {\n",
    "    'features__text_pipeline__vect__ngram_range': ((1, 1), (1, 2)),\n",
    "    'features__text_pipeline__vect__max_df': (0.5, 0.75, 1.0),\n",
    "    'features__text_pipeline__vect__max_features': (None, 5000, 10000),\n",
    "    #'features__text_pipeline__tfidf__use_idf': (True, False),\n",
    "    #'features__text_pipeline__tfidf__norm': ('l1', 'l2'),\n",
    "    'classifier__estimator__n_estimators': [50, 100, 200],\n",
    "    'classifier__estimator__min_samples_split': [2, 3, 4]\n",
    "}"
   ]
  },
  {
   "cell_type": "code",
   "execution_count": 19,
   "metadata": {},
   "outputs": [],
   "source": [
    "cv = GridSearchCV(pipeline, param_grid = parameters, n_jobs = -1, verbose = 10)"
   ]
  },
  {
   "cell_type": "code",
   "execution_count": 20,
   "metadata": {},
   "outputs": [
    {
     "name": "stdout",
     "output_type": "stream",
     "text": [
      "Fitting 3 folds for each of 162 candidates, totalling 486 fits\n"
     ]
    },
    {
     "name": "stderr",
     "output_type": "stream",
     "text": [
      "[Parallel(n_jobs=-1)]: Using backend LokyBackend with 12 concurrent workers.\n",
      "[Parallel(n_jobs=-1)]: Done   1 tasks      | elapsed:  3.3min\n",
      "[Parallel(n_jobs=-1)]: Done   8 tasks      | elapsed:  3.6min\n",
      "[Parallel(n_jobs=-1)]: Done  17 tasks      | elapsed:  7.1min\n",
      "[Parallel(n_jobs=-1)]: Done  26 tasks      | elapsed: 10.7min\n",
      "[Parallel(n_jobs=-1)]: Done  37 tasks      | elapsed: 14.4min\n",
      "/home/brunowdev/anaconda3/lib/python3.7/site-packages/joblib/externals/loky/process_executor.py:706: UserWarning: A worker stopped while some jobs were given to the executor. This can be caused by a too short worker timeout or by a memory leak.\n",
      "  \"timeout or by a memory leak.\", UserWarning\n",
      "[Parallel(n_jobs=-1)]: Done  48 tasks      | elapsed: 17.6min\n",
      "[Parallel(n_jobs=-1)]: Done  61 tasks      | elapsed: 26.4min\n",
      "[Parallel(n_jobs=-1)]: Done  74 tasks      | elapsed: 33.9min\n",
      "[Parallel(n_jobs=-1)]: Done  89 tasks      | elapsed: 43.9min\n",
      "[Parallel(n_jobs=-1)]: Done 104 tasks      | elapsed: 54.4min\n",
      "[Parallel(n_jobs=-1)]: Done 121 tasks      | elapsed: 78.8min\n",
      "[Parallel(n_jobs=-1)]: Done 138 tasks      | elapsed: 95.0min\n",
      "[Parallel(n_jobs=-1)]: Done 157 tasks      | elapsed: 123.0min\n",
      "[Parallel(n_jobs=-1)]: Done 176 tasks      | elapsed: 129.6min\n",
      "[Parallel(n_jobs=-1)]: Done 197 tasks      | elapsed: 136.1min\n",
      "[Parallel(n_jobs=-1)]: Done 218 tasks      | elapsed: 145.4min\n",
      "[Parallel(n_jobs=-1)]: Done 241 tasks      | elapsed: 158.1min\n",
      "[Parallel(n_jobs=-1)]: Done 264 tasks      | elapsed: 170.6min\n",
      "[Parallel(n_jobs=-1)]: Done 289 tasks      | elapsed: 200.2min\n",
      "[Parallel(n_jobs=-1)]: Done 314 tasks      | elapsed: 230.8min\n",
      "[Parallel(n_jobs=-1)]: Done 341 tasks      | elapsed: 241.9min\n",
      "[Parallel(n_jobs=-1)]: Done 368 tasks      | elapsed: 250.9min\n",
      "[Parallel(n_jobs=-1)]: Done 397 tasks      | elapsed: 264.0min\n",
      "[Parallel(n_jobs=-1)]: Done 426 tasks      | elapsed: 281.2min\n",
      "[Parallel(n_jobs=-1)]: Done 457 tasks      | elapsed: 315.8min\n",
      "[Parallel(n_jobs=-1)]: Done 486 out of 486 | elapsed: 342.2min finished\n"
     ]
    },
    {
     "data": {
      "text/plain": [
       "GridSearchCV(cv='warn', error_score='raise-deprecating',\n",
       "             estimator=Pipeline(memory=None,\n",
       "                                steps=[('features',\n",
       "                                        FeatureUnion(n_jobs=None,\n",
       "                                                     transformer_list=[('text_pipeline',\n",
       "                                                                        Pipeline(memory=None,\n",
       "                                                                                 steps=[('vect',\n",
       "                                                                                         CountVectorizer(analyzer='word',\n",
       "                                                                                                         binary=False,\n",
       "                                                                                                         decode_error='strict',\n",
       "                                                                                                         dtype=<class 'numpy.int64'>,\n",
       "                                                                                                         encoding='utf-8',\n",
       "                                                                                                         input='content',\n",
       "                                                                                                         lowercase=True,\n",
       "                                                                                                         max_df=...\n",
       "             param_grid={'classifier__estimator__min_samples_split': [2, 3, 4],\n",
       "                         'classifier__estimator__n_estimators': [50, 100, 200],\n",
       "                         'features__text_pipeline__vect__max_df': (0.5, 0.75,\n",
       "                                                                   1.0),\n",
       "                         'features__text_pipeline__vect__max_features': (None,\n",
       "                                                                         5000,\n",
       "                                                                         10000),\n",
       "                         'features__text_pipeline__vect__ngram_range': ((1, 1),\n",
       "                                                                        (1,\n",
       "                                                                         2))},\n",
       "             pre_dispatch='2*n_jobs', refit=True, return_train_score=False,\n",
       "             scoring=None, verbose=10)"
      ]
     },
     "execution_count": 20,
     "metadata": {},
     "output_type": "execute_result"
    }
   ],
   "source": [
    "cv.fit(X_train, y_train)"
   ]
  },
  {
   "cell_type": "code",
   "execution_count": 23,
   "metadata": {},
   "outputs": [
    {
     "data": {
      "text/plain": [
       "{'classifier__estimator__min_samples_split': 4,\n",
       " 'classifier__estimator__n_estimators': 100,\n",
       " 'features__text_pipeline__vect__max_df': 0.5,\n",
       " 'features__text_pipeline__vect__max_features': 10000,\n",
       " 'features__text_pipeline__vect__ngram_range': (1, 2)}"
      ]
     },
     "execution_count": 23,
     "metadata": {},
     "output_type": "execute_result"
    }
   ],
   "source": [
    "cv.best_params_"
   ]
  },
  {
   "cell_type": "code",
   "execution_count": 25,
   "metadata": {},
   "outputs": [
    {
     "data": {
      "text/plain": [
       "Pipeline(memory=None,\n",
       "         steps=[('features',\n",
       "                 FeatureUnion(n_jobs=None,\n",
       "                              transformer_list=[('text_pipeline',\n",
       "                                                 Pipeline(memory=None,\n",
       "                                                          steps=[('vect',\n",
       "                                                                  CountVectorizer(analyzer='word',\n",
       "                                                                                  binary=False,\n",
       "                                                                                  decode_error='strict',\n",
       "                                                                                  dtype=<class 'numpy.int64'>,\n",
       "                                                                                  encoding='utf-8',\n",
       "                                                                                  input='content',\n",
       "                                                                                  lowercase=True,\n",
       "                                                                                  max_df=0.5,\n",
       "                                                                                  max_features=10000,\n",
       "                                                                                  min_df=1,\n",
       "                                                                                  ngram_range=(1,\n",
       "                                                                                               2),\n",
       "                                                                                  preprocessor=No...\n",
       "                 MultiOutputClassifier(estimator=RandomForestClassifier(bootstrap=True,\n",
       "                                                                        class_weight=None,\n",
       "                                                                        criterion='gini',\n",
       "                                                                        max_depth=None,\n",
       "                                                                        max_features='auto',\n",
       "                                                                        max_leaf_nodes=None,\n",
       "                                                                        min_impurity_decrease=0.0,\n",
       "                                                                        min_impurity_split=None,\n",
       "                                                                        min_samples_leaf=1,\n",
       "                                                                        min_samples_split=4,\n",
       "                                                                        min_weight_fraction_leaf=0.0,\n",
       "                                                                        n_estimators=100,\n",
       "                                                                        n_jobs=-1,\n",
       "                                                                        oob_score=False,\n",
       "                                                                        random_state=None,\n",
       "                                                                        verbose=0,\n",
       "                                                                        warm_start=False),\n",
       "                                       n_jobs=None))],\n",
       "         verbose=False)"
      ]
     },
     "execution_count": 25,
     "metadata": {},
     "output_type": "execute_result"
    }
   ],
   "source": [
    "cv.best_estimator_"
   ]
  },
  {
   "cell_type": "code",
   "execution_count": 27,
   "metadata": {},
   "outputs": [],
   "source": [
    "y_pred = cv.best_estimator_.predict(X_test) "
   ]
  },
  {
   "cell_type": "code",
   "execution_count": 28,
   "metadata": {},
   "outputs": [
    {
     "name": "stdout",
     "output_type": "stream",
     "text": [
      "                        precision    recall  f1-score   support\n",
      "\n",
      "               related       0.83      0.97      0.89      5045\n",
      "               request       0.84      0.51      0.64      1107\n",
      "                 offer       0.00      0.00      0.00        35\n",
      "           aid_related       0.78      0.66      0.72      2764\n",
      "          medical_help       0.64      0.11      0.19       530\n",
      "      medical_products       0.82      0.19      0.31       319\n",
      "     search_and_rescue       0.81      0.11      0.19       191\n",
      "              security       1.00      0.01      0.02       123\n",
      "              military       0.83      0.08      0.14       196\n",
      "           child_alone       0.00      0.00      0.00         0\n",
      "                 water       0.82      0.56      0.67       381\n",
      "                  food       0.83      0.73      0.78       752\n",
      "               shelter       0.84      0.47      0.60       568\n",
      "              clothing       0.91      0.26      0.41       114\n",
      "                 money       1.00      0.03      0.06       165\n",
      "        missing_people       0.67      0.04      0.08        90\n",
      "              refugees       0.76      0.07      0.13       228\n",
      "                 death       0.82      0.38      0.52       320\n",
      "             other_aid       0.59      0.03      0.06       893\n",
      "infrastructure_related       0.00      0.00      0.00       423\n",
      "             transport       0.80      0.13      0.23       323\n",
      "             buildings       0.75      0.16      0.27       322\n",
      "           electricity       0.80      0.09      0.16       132\n",
      "                 tools       0.00      0.00      0.00        43\n",
      "             hospitals       0.00      0.00      0.00        64\n",
      "                 shops       0.00      0.00      0.00        35\n",
      "           aid_centers       0.00      0.00      0.00        66\n",
      "  other_infrastructure       0.40      0.01      0.01       298\n",
      "       weather_related       0.83      0.70      0.76      1858\n",
      "                floods       0.89      0.46      0.61       564\n",
      "                 storm       0.74      0.64      0.68       612\n",
      "                  fire       0.78      0.11      0.19        65\n",
      "            earthquake       0.89      0.80      0.84       630\n",
      "                  cold       0.85      0.18      0.30       121\n",
      "         other_weather       0.64      0.07      0.13       348\n",
      "         direct_report       0.81      0.41      0.55      1297\n",
      "\n",
      "             micro avg       0.82      0.56      0.67     21022\n",
      "             macro avg       0.64      0.25      0.31     21022\n",
      "          weighted avg       0.77      0.56      0.60     21022\n",
      "           samples avg       0.68      0.51      0.54     21022\n",
      "\n"
     ]
    },
    {
     "name": "stderr",
     "output_type": "stream",
     "text": [
      "/home/brunowdev/anaconda3/lib/python3.7/site-packages/sklearn/metrics/classification.py:1437: UndefinedMetricWarning: Precision and F-score are ill-defined and being set to 0.0 in labels with no predicted samples.\n",
      "  'precision', 'predicted', average, warn_for)\n",
      "/home/brunowdev/anaconda3/lib/python3.7/site-packages/sklearn/metrics/classification.py:1439: UndefinedMetricWarning: Recall and F-score are ill-defined and being set to 0.0 in labels with no true samples.\n",
      "  'recall', 'true', average, warn_for)\n",
      "/home/brunowdev/anaconda3/lib/python3.7/site-packages/sklearn/metrics/classification.py:1437: UndefinedMetricWarning: Precision and F-score are ill-defined and being set to 0.0 in samples with no predicted labels.\n",
      "  'precision', 'predicted', average, warn_for)\n",
      "/home/brunowdev/anaconda3/lib/python3.7/site-packages/sklearn/metrics/classification.py:1439: UndefinedMetricWarning: Recall and F-score are ill-defined and being set to 0.0 in samples with no true labels.\n",
      "  'recall', 'true', average, warn_for)\n"
     ]
    }
   ],
   "source": [
    "print(classification_report(y_test.values, y_pred, target_names=labels, output_dict = False))"
   ]
  },
  {
   "cell_type": "markdown",
   "metadata": {},
   "source": [
    "#### Testing with translated dataset"
   ]
  },
  {
   "cell_type": "code",
   "execution_count": 16,
   "metadata": {},
   "outputs": [],
   "source": [
    "pipeline = Pipeline([\n",
    "        ('vectorizer', CountVectorizer(tokenizer=tokenize)),\n",
    "        ('tfidf', TfidfTransformer()),\n",
    "        ('classifier', MultiOutputClassifier(RandomForestClassifier(n_estimators = 10)))\n",
    "])"
   ]
  },
  {
   "cell_type": "code",
   "execution_count": 17,
   "metadata": {},
   "outputs": [],
   "source": [
    "X_train, X_test, y_train, y_test = train_test_split(X, Y)"
   ]
  },
  {
   "cell_type": "code",
   "execution_count": 18,
   "metadata": {},
   "outputs": [
    {
     "data": {
      "text/plain": [
       "Pipeline(memory=None,\n",
       "         steps=[('vectorizer',\n",
       "                 CountVectorizer(analyzer='word', binary=False,\n",
       "                                 decode_error='strict',\n",
       "                                 dtype=<class 'numpy.int64'>, encoding='utf-8',\n",
       "                                 input='content', lowercase=True, max_df=1.0,\n",
       "                                 max_features=None, min_df=1,\n",
       "                                 ngram_range=(1, 1), preprocessor=None,\n",
       "                                 stop_words=None, strip_accents=None,\n",
       "                                 token_pattern='(?u)\\\\b\\\\w\\\\w+\\\\b',\n",
       "                                 tokenizer=<function toke...\n",
       "                 MultiOutputClassifier(estimator=RandomForestClassifier(bootstrap=True,\n",
       "                                                                        class_weight=None,\n",
       "                                                                        criterion='gini',\n",
       "                                                                        max_depth=None,\n",
       "                                                                        max_features='auto',\n",
       "                                                                        max_leaf_nodes=None,\n",
       "                                                                        min_impurity_decrease=0.0,\n",
       "                                                                        min_impurity_split=None,\n",
       "                                                                        min_samples_leaf=1,\n",
       "                                                                        min_samples_split=2,\n",
       "                                                                        min_weight_fraction_leaf=0.0,\n",
       "                                                                        n_estimators=10,\n",
       "                                                                        n_jobs=None,\n",
       "                                                                        oob_score=False,\n",
       "                                                                        random_state=None,\n",
       "                                                                        verbose=0,\n",
       "                                                                        warm_start=False),\n",
       "                                       n_jobs=None))],\n",
       "         verbose=False)"
      ]
     },
     "execution_count": 18,
     "metadata": {},
     "output_type": "execute_result"
    }
   ],
   "source": [
    "pipeline.fit(X_train, y_train)"
   ]
  },
  {
   "cell_type": "code",
   "execution_count": 19,
   "metadata": {},
   "outputs": [],
   "source": [
    "y_pred = pipeline.predict(X_test)"
   ]
  },
  {
   "cell_type": "code",
   "execution_count": 20,
   "metadata": {},
   "outputs": [
    {
     "name": "stdout",
     "output_type": "stream",
     "text": [
      "                        precision    recall  f1-score   support\n",
      "\n",
      "               related       0.82      0.94      0.87      5003\n",
      "               request       0.82      0.37      0.51      1114\n",
      "                 offer       0.00      0.00      0.00        32\n",
      "           aid_related       0.73      0.54      0.62      2691\n",
      "          medical_help       0.61      0.07      0.13       538\n",
      "      medical_products       0.79      0.07      0.13       331\n",
      "     search_and_rescue       0.67      0.01      0.02       180\n",
      "              security       0.00      0.00      0.00       119\n",
      "              military       0.65      0.06      0.11       212\n",
      "           child_alone       0.00      0.00      0.00         0\n",
      "                 water       0.82      0.26      0.40       404\n",
      "                  food       0.86      0.43      0.57       741\n",
      "               shelter       0.83      0.26      0.40       596\n",
      "              clothing       0.71      0.05      0.09       107\n",
      "                 money       1.00      0.05      0.09       149\n",
      "        missing_people       0.00      0.00      0.00        70\n",
      "              refugees       0.55      0.03      0.06       201\n",
      "                 death       0.77      0.16      0.27       289\n",
      "             other_aid       0.48      0.03      0.05       834\n",
      "infrastructure_related       0.50      0.00      0.01       415\n",
      "             transport       0.74      0.11      0.20       284\n",
      "             buildings       0.71      0.06      0.11       334\n",
      "           electricity       0.33      0.01      0.01       137\n",
      "                 tools       0.00      0.00      0.00        44\n",
      "             hospitals       1.00      0.01      0.03        72\n",
      "                 shops       0.00      0.00      0.00        22\n",
      "           aid_centers       0.00      0.00      0.00        75\n",
      "  other_infrastructure       0.00      0.00      0.00       284\n",
      "       weather_related       0.84      0.51      0.64      1781\n",
      "                floods       0.87      0.26      0.40       526\n",
      "                 storm       0.75      0.34      0.47       583\n",
      "                  fire       0.50      0.02      0.03        63\n",
      "            earthquake       0.88      0.61      0.72       581\n",
      "                  cold       0.63      0.10      0.17       125\n",
      "         other_weather       0.43      0.03      0.06       337\n",
      "         direct_report       0.80      0.32      0.45      1269\n",
      "\n",
      "             micro avg       0.80      0.46      0.58     20543\n",
      "             macro avg       0.56      0.16      0.21     20543\n",
      "          weighted avg       0.74      0.46      0.51     20543\n",
      "           samples avg       0.67      0.44      0.48     20543\n",
      "\n"
     ]
    },
    {
     "name": "stderr",
     "output_type": "stream",
     "text": [
      "/home/bruno/anaconda3/lib/python3.7/site-packages/sklearn/metrics/classification.py:1437: UndefinedMetricWarning: Precision and F-score are ill-defined and being set to 0.0 in labels with no predicted samples.\n",
      "  'precision', 'predicted', average, warn_for)\n",
      "/home/bruno/anaconda3/lib/python3.7/site-packages/sklearn/metrics/classification.py:1439: UndefinedMetricWarning: Recall and F-score are ill-defined and being set to 0.0 in labels with no true samples.\n",
      "  'recall', 'true', average, warn_for)\n",
      "/home/bruno/anaconda3/lib/python3.7/site-packages/sklearn/metrics/classification.py:1437: UndefinedMetricWarning: Precision and F-score are ill-defined and being set to 0.0 in samples with no predicted labels.\n",
      "  'precision', 'predicted', average, warn_for)\n",
      "/home/bruno/anaconda3/lib/python3.7/site-packages/sklearn/metrics/classification.py:1439: UndefinedMetricWarning: Recall and F-score are ill-defined and being set to 0.0 in samples with no true labels.\n",
      "  'recall', 'true', average, warn_for)\n"
     ]
    }
   ],
   "source": [
    "print(classification_report(y_test.values, y_pred, target_names=labels, output_dict = False))"
   ]
  },
  {
   "cell_type": "code",
   "execution_count": null,
   "metadata": {},
   "outputs": [],
   "source": [
    "{'classifier__estimator__min_samples_split': 4,\n",
    " 'classifier__estimator__n_estimators': 100,\n",
    " 'features__text_pipeline__vect__max_df': 0.5,\n",
    " 'features__text_pipeline__vect__max_features': 10000,\n",
    " 'features__text_pipeline__vect__ngram_range': (1, 2)\n",
    "}"
   ]
  },
  {
   "cell_type": "code",
   "execution_count": 22,
   "metadata": {},
   "outputs": [],
   "source": [
    "pipeline = Pipeline([\n",
    "        ('vectorizer', CountVectorizer(tokenizer=tokenize, max_df = 0.5, max_features = 10000, ngram_range = (1, 2))),\n",
    "        ('tfidf', TfidfTransformer()),\n",
    "        ('classifier', MultiOutputClassifier(RandomForestClassifier(n_estimators = 100, min_samples_split = 4)))\n",
    "])"
   ]
  },
  {
   "cell_type": "code",
   "execution_count": 23,
   "metadata": {},
   "outputs": [
    {
     "data": {
      "text/plain": [
       "Pipeline(memory=None,\n",
       "         steps=[('vectorizer',\n",
       "                 CountVectorizer(analyzer='word', binary=False,\n",
       "                                 decode_error='strict',\n",
       "                                 dtype=<class 'numpy.int64'>, encoding='utf-8',\n",
       "                                 input='content', lowercase=True, max_df=0.5,\n",
       "                                 max_features=10000, min_df=1,\n",
       "                                 ngram_range=(1, 2), preprocessor=None,\n",
       "                                 stop_words=None, strip_accents=None,\n",
       "                                 token_pattern='(?u)\\\\b\\\\w\\\\w+\\\\b',\n",
       "                                 tokenizer=<function tok...\n",
       "                 MultiOutputClassifier(estimator=RandomForestClassifier(bootstrap=True,\n",
       "                                                                        class_weight=None,\n",
       "                                                                        criterion='gini',\n",
       "                                                                        max_depth=None,\n",
       "                                                                        max_features='auto',\n",
       "                                                                        max_leaf_nodes=None,\n",
       "                                                                        min_impurity_decrease=0.0,\n",
       "                                                                        min_impurity_split=None,\n",
       "                                                                        min_samples_leaf=1,\n",
       "                                                                        min_samples_split=4,\n",
       "                                                                        min_weight_fraction_leaf=0.0,\n",
       "                                                                        n_estimators=100,\n",
       "                                                                        n_jobs=None,\n",
       "                                                                        oob_score=False,\n",
       "                                                                        random_state=None,\n",
       "                                                                        verbose=0,\n",
       "                                                                        warm_start=False),\n",
       "                                       n_jobs=None))],\n",
       "         verbose=False)"
      ]
     },
     "execution_count": 23,
     "metadata": {},
     "output_type": "execute_result"
    }
   ],
   "source": [
    "pipeline.fit(X_train, y_train)"
   ]
  },
  {
   "cell_type": "code",
   "execution_count": 24,
   "metadata": {},
   "outputs": [],
   "source": [
    "y_pred = pipeline.predict(X_test)"
   ]
  },
  {
   "cell_type": "code",
   "execution_count": 25,
   "metadata": {},
   "outputs": [
    {
     "name": "stdout",
     "output_type": "stream",
     "text": [
      "                        precision    recall  f1-score   support\n",
      "\n",
      "               related       0.82      0.97      0.89      5003\n",
      "               request       0.84      0.49      0.62      1114\n",
      "                 offer       0.00      0.00      0.00        32\n",
      "           aid_related       0.76      0.66      0.71      2691\n",
      "          medical_help       0.62      0.11      0.18       538\n",
      "      medical_products       0.82      0.20      0.32       331\n",
      "     search_and_rescue       0.73      0.12      0.21       180\n",
      "              security       0.00      0.00      0.00       119\n",
      "              military       0.65      0.06      0.11       212\n",
      "           child_alone       0.00      0.00      0.00         0\n",
      "                 water       0.81      0.57      0.67       404\n",
      "                  food       0.83      0.71      0.76       741\n",
      "               shelter       0.82      0.49      0.61       596\n",
      "              clothing       0.81      0.23      0.36       107\n",
      "                 money       1.00      0.04      0.08       149\n",
      "        missing_people       0.50      0.01      0.03        70\n",
      "              refugees       0.56      0.07      0.13       201\n",
      "                 death       0.80      0.35      0.49       289\n",
      "             other_aid       0.62      0.04      0.08       834\n",
      "infrastructure_related       0.00      0.00      0.00       415\n",
      "             transport       0.75      0.13      0.22       284\n",
      "             buildings       0.72      0.17      0.27       334\n",
      "           electricity       0.92      0.08      0.15       137\n",
      "                 tools       0.00      0.00      0.00        44\n",
      "             hospitals       0.00      0.00      0.00        72\n",
      "                 shops       0.00      0.00      0.00        22\n",
      "           aid_centers       0.00      0.00      0.00        75\n",
      "  other_infrastructure       0.00      0.00      0.00       284\n",
      "       weather_related       0.84      0.69      0.76      1781\n",
      "                floods       0.90      0.47      0.62       526\n",
      "                 storm       0.74      0.64      0.68       583\n",
      "                  fire       0.73      0.13      0.22        63\n",
      "            earthquake       0.89      0.81      0.85       581\n",
      "                  cold       0.71      0.22      0.33       125\n",
      "         other_weather       0.55      0.10      0.17       337\n",
      "         direct_report       0.82      0.42      0.56      1269\n",
      "\n",
      "             micro avg       0.81      0.56      0.66     20543\n",
      "             macro avg       0.57      0.25      0.31     20543\n",
      "          weighted avg       0.75      0.56      0.60     20543\n",
      "           samples avg       0.68      0.51      0.53     20543\n",
      "\n"
     ]
    },
    {
     "name": "stderr",
     "output_type": "stream",
     "text": [
      "/home/bruno/anaconda3/lib/python3.7/site-packages/sklearn/metrics/classification.py:1437: UndefinedMetricWarning: Precision and F-score are ill-defined and being set to 0.0 in labels with no predicted samples.\n",
      "  'precision', 'predicted', average, warn_for)\n",
      "/home/bruno/anaconda3/lib/python3.7/site-packages/sklearn/metrics/classification.py:1439: UndefinedMetricWarning: Recall and F-score are ill-defined and being set to 0.0 in labels with no true samples.\n",
      "  'recall', 'true', average, warn_for)\n",
      "/home/bruno/anaconda3/lib/python3.7/site-packages/sklearn/metrics/classification.py:1437: UndefinedMetricWarning: Precision and F-score are ill-defined and being set to 0.0 in samples with no predicted labels.\n",
      "  'precision', 'predicted', average, warn_for)\n",
      "/home/bruno/anaconda3/lib/python3.7/site-packages/sklearn/metrics/classification.py:1439: UndefinedMetricWarning: Recall and F-score are ill-defined and being set to 0.0 in samples with no true labels.\n",
      "  'recall', 'true', average, warn_for)\n"
     ]
    }
   ],
   "source": [
    "print(classification_report(y_test.values, y_pred, target_names=labels, output_dict = False))"
   ]
  },
  {
   "cell_type": "code",
   "execution_count": null,
   "metadata": {},
   "outputs": [],
   "source": []
  },
  {
   "cell_type": "markdown",
   "metadata": {},
   "source": [
    "### 7. Test your model\n",
    "Show the accuracy, precision, and recall of the tuned model.  \n",
    "\n",
    "Since this project focuses on code quality, process, and  pipelines, there is no minimum performance metric needed to pass. However, make sure to fine tune your models for accuracy, precision and recall to make your project stand out - especially for your portfolio!"
   ]
  },
  {
   "cell_type": "code",
   "execution_count": null,
   "metadata": {},
   "outputs": [],
   "source": []
  },
  {
   "cell_type": "markdown",
   "metadata": {},
   "source": [
    "### 8. Try improving your model further. Here are a few ideas:\n",
    "* try other machine learning algorithms\n",
    "* add other features besides the TF-IDF"
   ]
  },
  {
   "cell_type": "code",
   "execution_count": null,
   "metadata": {},
   "outputs": [],
   "source": []
  },
  {
   "cell_type": "markdown",
   "metadata": {},
   "source": [
    "### 9. Export your model as a pickle file"
   ]
  },
  {
   "cell_type": "code",
   "execution_count": null,
   "metadata": {},
   "outputs": [],
   "source": []
  },
  {
   "cell_type": "markdown",
   "metadata": {},
   "source": [
    "### 10. Use this notebook to complete `train.py`\n",
    "Use the template file attached in the Resources folder to write a script that runs the steps above to create a database and export a model based on a new dataset specified by the user."
   ]
  },
  {
   "cell_type": "code",
   "execution_count": null,
   "metadata": {},
   "outputs": [],
   "source": []
  }
 ],
 "metadata": {
  "kernelspec": {
   "display_name": "Python 3",
   "language": "python",
   "name": "python3"
  },
  "language_info": {
   "codemirror_mode": {
    "name": "ipython",
    "version": 3
   },
   "file_extension": ".py",
   "mimetype": "text/x-python",
   "name": "python",
   "nbconvert_exporter": "python",
   "pygments_lexer": "ipython3",
   "version": "3.7.4"
  }
 },
 "nbformat": 4,
 "nbformat_minor": 4
}
